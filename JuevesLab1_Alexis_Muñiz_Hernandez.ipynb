{
  "nbformat": 4,
  "nbformat_minor": 0,
  "metadata": {
    "colab": {
      "provenance": [],
      "authorship_tag": "ABX9TyP/0UrX1cp/PTxQjsN5TXpK",
      "include_colab_link": true
    },
    "kernelspec": {
      "name": "python3",
      "display_name": "Python 3"
    },
    "language_info": {
      "name": "python"
    }
  },
  "cells": [
    {
      "cell_type": "markdown",
      "metadata": {
        "id": "view-in-github",
        "colab_type": "text"
      },
      "source": [
        "<a href=\"https://colab.research.google.com/github/munizhernandezalexiscb131-sys/Analisis-de-datos/blob/main/JuevesLab1_Alexis_Mu%C3%B1iz_Hernandez.ipynb\" target=\"_parent\"><img src=\"https://colab.research.google.com/assets/colab-badge.svg\" alt=\"Open In Colab\"/></a>"
      ]
    },
    {
      "cell_type": "code",
      "source": [
        "#Parte 5. Integración\n",
        "#\t\tRedacta un programa en Python que:\n",
        " #   \t-\tSolicite al usuario:\n",
        "\t#\t\t\t- Edad\n",
        "\t#\t\t\t- Altura\n",
        "\t#\t\t\t- Monto de una compra\n",
        "\t#\tMuestre en pantalla:\n",
        "\t#\t\t\t- El tipo de cada dato ingresado.\n",
        "\t#\t\t\t- Si el usuario es mayor de edad.\n",
        "\t#\t\t\t- Si la compra excede los $500.\n",
        "\t#\t\t\t- Si el usuario es mayor de edad y su compra excede $500.\n",
        "edad_u=float(input(\"Ingrese su edad: \"))\n",
        "altura_u=float(input(\"Ingrese su altura: \"))\n",
        "monto_u=float(input(\"Ingrese el monto de su compra: \"))\n",
        "\n",
        "print(\"El tipo de dato de su edad es: \",type(edad_u))\n",
        "print(\"El tipo de dato de su altura es: \",type(altura_u))\n",
        "print(\"El tipo de dato de su monto es: \",type(monto_u))\n",
        "\n",
        "if edad_u>=18:\n",
        "\tprint(\"Es mayor de edad\")\n",
        "else:\n",
        "\tprint(\"Es menor de edad\")\n",
        "\n",
        "if monto_u>500:\n",
        "\tprint(\"La compra excede los $500\")\n",
        "else:\n",
        "\tprint(\"La compra no excede los $500\")\n",
        "\n",
        "if edad_u>=18 and monto_u>500:\n",
        "\tprint(\"Usted es mayor de edad y la compra excede los $500\")\n",
        "else:\n",
        "\tprint(\"Es menor de edad y la compra no excede los $500\")"
      ],
      "metadata": {
        "colab": {
          "base_uri": "https://localhost:8080/"
        },
        "id": "IB5O4tDSFpGP",
        "outputId": "7048bb4e-3329-4e5e-f0a4-4c625348f59c"
      },
      "execution_count": 3,
      "outputs": [
        {
          "output_type": "stream",
          "name": "stdout",
          "text": [
            "Ingrese su edad: 22\n",
            "Ingrese su altura: 1.67\n",
            "Ingrese el monto de su compra: 1200\n",
            "El tipo de dato de su edad es:  <class 'float'>\n",
            "El tipo de dato de su altura es:  <class 'float'>\n",
            "El tipo de dato de su monto es:  <class 'float'>\n",
            "Es mayor de edad\n",
            "La compra excede los $500\n",
            "Usted es mayor de edad y la compra excede los $500\n"
          ]
        }
      ]
    },
    {
      "cell_type": "code",
      "source": [
        "#Parte 4. Operaciones lógicas\n",
        "\n",
        "#\tCrea dos variables booleanas:\n",
        "#\t\t- pago_tarjeta = True\n",
        "#\t\t- tiene_descuento = False\n",
        "#\t\t- Evalúa las siguientes expresiones:\n",
        "#\t\t- ¿El cliente pagó con tarjeta y tiene descuento?\n",
        "#\t\t- ¿El cliente pagó con tarjeta o tiene descuento?\n",
        "#\t\t- Niega el valor de tiene_descuento.\n",
        "pago_tarjeta=True\n",
        "tiene_descuento=False\n",
        "\n",
        "if pago_tarjeta and tiene_descuento:\n",
        "\tprint(\"El cliente pagó con tarjeta y tiene descuento\")\n",
        "else:\n",
        "\tprint(\"El cliente no pagó con tarjeta y no tiene descuento\")"
      ],
      "metadata": {
        "colab": {
          "base_uri": "https://localhost:8080/"
        },
        "id": "tEB_TzTlFgPv",
        "outputId": "9ff352b7-cb2b-4245-8933-8b88972c8418"
      },
      "execution_count": 4,
      "outputs": [
        {
          "output_type": "stream",
          "name": "stdout",
          "text": [
            "El cliente no pagó con tarjeta y no tiene descuento\n"
          ]
        }
      ]
    },
    {
      "cell_type": "code",
      "execution_count": 6,
      "metadata": {
        "colab": {
          "base_uri": "https://localhost:8080/"
        },
        "id": "vqBJYKLSFBC8",
        "outputId": "b63ccfc3-9ed1-493d-dab5-521864915457"
      },
      "outputs": [
        {
          "output_type": "stream",
          "name": "stdout",
          "text": [
            "Mi edad es: 19\n",
            "Mi altura es: 1.80\n",
            "Mi nombre es: alexis\n",
            "El tipo de dato de mi edad es:  <class 'int'>\n",
            "El tipo de dato de mi altura es:  <class 'float'>\n",
            "El tipo de dato de mi nombre es:  <class 'str'>\n",
            "El total de la compra es:  255.24\n",
            "El precio final con descuento aplicado es del:  216.954\n",
            "El total final a pagar es del:  251.66664\n",
            "Mi edad es mayor a 18\n",
            "El precio más alto es:  125.5\n",
            "El precio más alto es mayor a 100\n",
            "El total final de la compra es mayor a 200\n"
          ]
        }
      ],
      "source": [
        "#Parte 1. Tipos de datos\n",
        "\t#Define tres variables:\n",
        "\t\t#- Un número entero (int) con tu edad.\n",
        "\t\t#- Un número decimal (float) con tu altura en metros.\n",
        "\t\t#- Una cadena de texto (str) con tu nombre completo.\n",
        "\t#Pregunta: ¿qué función en Python permite conocer el tipo de dato de una variable? Úsala para mostrar los resultados.\n",
        "  #Respuesta: type()\n",
        "Edad = int(input(\"Mi edad es: \"))\n",
        "altura = float(input(\"Mi altura es: \"))\n",
        "nombre = str(input(\"Mi nombre es: \"))\n",
        "print(\"El tipo de dato de mi edad es: \",type(Edad))\n",
        "print(\"El tipo de dato de mi altura es: \",type(altura))\n",
        "print(\"El tipo de dato de mi nombre es: \",type(nombre))\n",
        "\n",
        "#Parte 2. Operaciones aritméticas\n",
        "\n",
        "#\tSupón que compras 3 productos con precios: 125.50, 89.99 y 39.75.\n",
        "#\t\t- Calcula el total de la compra.\n",
        "#\t\t- Aplica un descuento del 15%.\n",
        "#\t\t- Calcula el IVA del 16% sobre el precio con descuento.\n",
        "#\t\t- Obtén el total final a pagar.\n",
        "\n",
        "#\t¿Qué operador usarías para obtener el residuo de dividir 125 entre 12?\n",
        "# Respuesta: %\n",
        "#\t\tEscríbelo y ejecútalo en código.\n",
        "compra_1= float(125.50)\n",
        "compra_2= float(89.99)\n",
        "compra_3= float(39.75)\n",
        "total= compra_1 + compra_2 + compra_3\n",
        "print(\"El total de la compra es: \",total)\n",
        "\n",
        "descuento= total * 0.15\n",
        "total_descuento= total - descuento\n",
        "print(\"El precio final con descuento aplicado es del: \",total_descuento)\n",
        "\n",
        "iva= total_descuento * 0.16\n",
        "total_final= total_descuento + iva\n",
        "print(\"El total final a pagar es del: \",total_final)\n",
        "\n",
        "#Parte 3. Operaciones relacionales\n",
        "\n",
        "#\tCon los datos anteriores:\n",
        "#\t\t- Verifica si tu edad es mayor a 18.\n",
        "#\t\t- Comprueba si el precio más alto es mayor que 100.\n",
        "#\t\t- Evalúa si el total final de la compra es menor o igual a 200.\n",
        "if Edad>=18:\n",
        "\tprint(\"Mi edad es mayor a 18\")\n",
        "else:\n",
        "\tprint(\"Mi edad es menor a 18\")\n",
        "\n",
        "if compra_1>compra_2 and compra_1>compra_3:\n",
        "  precio_alto=compra_1\n",
        "  print(\"El precio más alto es: \",compra_1)\n",
        "elif compra_2>compra_1 and compra_2>compra_3:\n",
        "  precio_alto=compra_2\n",
        "  print(\"El precio más alto es: \",compra_2)\n",
        "else:\n",
        "  precio_alto=compra_3\n",
        "  print(\"El precio más alto es: \",compra_3)\n",
        "\n",
        "if precio_alto>100:\n",
        "\tprint(\"El precio más alto es mayor a 100\")\n",
        "else:\n",
        "\tprint(\"El precio más alto es menor a 100\")\n",
        "\n",
        "\n",
        "if total_final<=200:\n",
        "\tprint(\"El total final de la compra es menor o igual a 200\")\n",
        "else:\n",
        "\tprint(\"El total final de la compra es mayor a 200\")"
      ]
    }
  ]
}