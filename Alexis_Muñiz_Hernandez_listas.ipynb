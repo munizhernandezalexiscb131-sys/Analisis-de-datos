{
  "nbformat": 4,
  "nbformat_minor": 0,
  "metadata": {
    "colab": {
      "provenance": [],
      "authorship_tag": "ABX9TyOWv/XNroizLqvP2arSosoO",
      "include_colab_link": true
    },
    "kernelspec": {
      "name": "python3",
      "display_name": "Python 3"
    },
    "language_info": {
      "name": "python"
    }
  },
  "cells": [
    {
      "cell_type": "markdown",
      "metadata": {
        "id": "view-in-github",
        "colab_type": "text"
      },
      "source": [
        "<a href=\"https://colab.research.google.com/github/munizhernandezalexiscb131-sys/Analisis-de-datos/blob/main/Alexis_Mu%C3%B1iz_Hernandez_listas.ipynb\" target=\"_parent\"><img src=\"https://colab.research.google.com/assets/colab-badge.svg\" alt=\"Open In Colab\"/></a>"
      ]
    },
    {
      "cell_type": "code",
      "source": [
        "# DICCIONARIOS\n",
        "colores = {'calidos' : ['rojo','amarillo'], 'frios' : ['azul','verde']}\n",
        "colores['neutro'] = ['negro', 'blanco']\n",
        "borrado = colores.pop('calidos')\n",
        "items = colores.items()\n",
        "keys = colores.keys()\n",
        "for key, value in colores.items():\n",
        "    print(f\"La clave {key} está asociado al valor {value}\")\n",
        "colores.clear()"
      ],
      "metadata": {
        "colab": {
          "base_uri": "https://localhost:8080/"
        },
        "id": "WNX9gp71q-4A",
        "outputId": "9946ad92-93ab-4cda-8e51-f1231f7c697b"
      },
      "execution_count": 29,
      "outputs": [
        {
          "output_type": "stream",
          "name": "stdout",
          "text": [
            "La clave frios está asociado al valor ['azul', 'verde']\n",
            "La clave neutro está asociado al valor ['negro', 'blanco']\n"
          ]
        }
      ]
    },
    {
      "cell_type": "code",
      "source": [
        "colores"
      ],
      "metadata": {
        "colab": {
          "base_uri": "https://localhost:8080/"
        },
        "id": "p8oA0q_pvioY",
        "outputId": "4b2f6342-04c7-4e43-9f91-212ec59bb206"
      },
      "execution_count": 21,
      "outputs": [
        {
          "output_type": "execute_result",
          "data": {
            "text/plain": [
              "{'calidos': ['rojo', 'amarillo'], 'frios': ['azul', 'verde']}"
            ]
          },
          "metadata": {},
          "execution_count": 21
        }
      ]
    },
    {
      "cell_type": "code",
      "source": [
        "colores"
      ],
      "metadata": {
        "colab": {
          "base_uri": "https://localhost:8080/"
        },
        "id": "gc-kCEUtwI60",
        "outputId": "bf6d6d43-0cba-439b-ea0a-8b2cbdea9708"
      },
      "execution_count": 23,
      "outputs": [
        {
          "output_type": "execute_result",
          "data": {
            "text/plain": [
              "{'calidos': ['rojo', 'amarillo'],\n",
              " 'frios': ['azul', 'verde'],\n",
              " 'neutro': ['negro', 'blanco']}"
            ]
          },
          "metadata": {},
          "execution_count": 23
        }
      ]
    },
    {
      "cell_type": "code",
      "source": [
        "colores"
      ],
      "metadata": {
        "colab": {
          "base_uri": "https://localhost:8080/"
        },
        "id": "wQh_JnuHweVF",
        "outputId": "d224fbdd-89e1-4db5-a09a-cf1dc13d8b67"
      },
      "execution_count": 25,
      "outputs": [
        {
          "output_type": "execute_result",
          "data": {
            "text/plain": [
              "{'frios': ['azul', 'verde'], 'neutro': ['negro', 'blanco']}"
            ]
          },
          "metadata": {},
          "execution_count": 25
        }
      ]
    },
    {
      "cell_type": "code",
      "source": [
        "print(\"objeto dict_items: \",items)\n",
        "print(\"objeto dict_keys: \",keys)"
      ],
      "metadata": {
        "colab": {
          "base_uri": "https://localhost:8080/"
        },
        "id": "WBIbTj5Vw5U3",
        "outputId": "c9563133-c26a-4a46-e57e-c935f71bae56"
      },
      "execution_count": 27,
      "outputs": [
        {
          "output_type": "stream",
          "name": "stdout",
          "text": [
            "objeto dict_items:  dict_items([('frios', ['azul', 'verde']), ('neutro', ['negro', 'blanco'])])\n",
            "objeto dict_keys:  dict_keys(['frios', 'neutro'])\n"
          ]
        }
      ]
    },
    {
      "cell_type": "code",
      "source": [
        "colores"
      ],
      "metadata": {
        "colab": {
          "base_uri": "https://localhost:8080/"
        },
        "id": "fzQh1Wf4xwFE",
        "outputId": "41ccadbe-f350-4691-959f-fba5dc464130"
      },
      "execution_count": 30,
      "outputs": [
        {
          "output_type": "execute_result",
          "data": {
            "text/plain": [
              "{}"
            ]
          },
          "metadata": {},
          "execution_count": 30
        }
      ]
    },
    {
      "cell_type": "code",
      "source": [
        "# TUPLAS\n",
        "tupla_nueva = ('Alexis','Abigail','Denisse','Alexis')\n",
        "tupla_nueva_1 = ('Joseline', 'Valeria')\n",
        "tupla_nueva = tupla_nueva + tupla_nueva_1\n",
        "index = tupla_nueva.index('Denisse')\n",
        "count = tupla_nueva.count('Alexis')\n",
        "for elemento in tupla_nueva:\n",
        "    print(elemento)\n",
        "del tupla_nueva"
      ],
      "metadata": {
        "id": "BxHvwkX_S-aW",
        "colab": {
          "base_uri": "https://localhost:8080/"
        },
        "outputId": "a60d781b-d385-43ed-d062-ed1ecff09296"
      },
      "execution_count": 18,
      "outputs": [
        {
          "output_type": "stream",
          "name": "stdout",
          "text": [
            "Alexis\n",
            "Abigail\n",
            "Denisse\n",
            "Alexis\n",
            "Joseline\n",
            "Valeria\n"
          ]
        }
      ]
    },
    {
      "cell_type": "code",
      "source": [
        "print(tupla_nueva)\n",
        "print(tupla_nueva_1)"
      ],
      "metadata": {
        "colab": {
          "base_uri": "https://localhost:8080/"
        },
        "id": "1cbCvYxcUJhx",
        "outputId": "de58e2c7-a6b3-4dc5-fb80-1e90c95314c2"
      },
      "execution_count": null,
      "outputs": [
        {
          "output_type": "stream",
          "name": "stdout",
          "text": [
            "('Alexis', 'Abigail', 'Denisse', 'Alexis')\n",
            "('Joseline', 'Valeria')\n"
          ]
        }
      ]
    },
    {
      "cell_type": "code",
      "source": [
        "tupla_nueva"
      ],
      "metadata": {
        "colab": {
          "base_uri": "https://localhost:8080/"
        },
        "id": "izYgbBhXVIiC",
        "outputId": "779258c4-56bc-4e03-a362-b29cb330e56f"
      },
      "execution_count": 11,
      "outputs": [
        {
          "output_type": "execute_result",
          "data": {
            "text/plain": [
              "('Alexis', 'Abigail', 'Denisse', 'Alexis', 'Joseline', 'Valeria')"
            ]
          },
          "metadata": {},
          "execution_count": 11
        }
      ]
    },
    {
      "cell_type": "code",
      "source": [
        "print(\"Numero de indice de Denisse: \",index)\n",
        "print(\"Cantidad de aparicion de Alexis: \",count)"
      ],
      "metadata": {
        "colab": {
          "base_uri": "https://localhost:8080/"
        },
        "id": "61j5mvnqpyX6",
        "outputId": "a741dd1d-7b1a-4f9c-9fbf-c49fece2392f"
      },
      "execution_count": 14,
      "outputs": [
        {
          "output_type": "stream",
          "name": "stdout",
          "text": [
            "Aparicion del elemento:  2\n",
            "Cantidad de aparicion de Alexis:  2\n"
          ]
        }
      ]
    },
    {
      "cell_type": "code",
      "source": [
        "tupla_nueva"
      ],
      "metadata": {
        "colab": {
          "base_uri": "https://localhost:8080/",
          "height": 141
        },
        "id": "D3357rKzqaU1",
        "outputId": "3b23622e-40b8-49b5-f35b-fe48e579c41a"
      },
      "execution_count": 19,
      "outputs": [
        {
          "output_type": "error",
          "ename": "NameError",
          "evalue": "name 'tupla_nueva' is not defined",
          "traceback": [
            "\u001b[0;31m---------------------------------------------------------------------------\u001b[0m",
            "\u001b[0;31mNameError\u001b[0m                                 Traceback (most recent call last)",
            "\u001b[0;32m/tmp/ipython-input-3467457652.py\u001b[0m in \u001b[0;36m<cell line: 0>\u001b[0;34m()\u001b[0m\n\u001b[0;32m----> 1\u001b[0;31m \u001b[0mtupla_nueva\u001b[0m\u001b[0;34m\u001b[0m\u001b[0;34m\u001b[0m\u001b[0m\n\u001b[0m",
            "\u001b[0;31mNameError\u001b[0m: name 'tupla_nueva' is not defined"
          ]
        }
      ]
    },
    {
      "cell_type": "code",
      "source": [
        "# SETS\n",
        "Set_nuevo = {'Pamela','Erika','Grettel'}\n",
        "Set_nuevo.add('Irene')\n",
        "Set_nuevo.add('Dana')\n",
        "Set_nuevo.add('Rubi')\n",
        "Set_nuevo.discard('Dana')\n",
        "Set_nuevo_1 = {'Alexis','Brayan','Diego','Ivan','Pamela','Rubi'}\n",
        "union = Set_nuevo.union(Set_nuevo_1)\n",
        "interseccion = Set_nuevo.intersection(Set_nuevo_1)\n",
        "diferencia = Set_nuevo.difference(Set_nuevo_1)\n",
        "Set_nuevo.discard('Grettel')\n",
        "for nombre in Set_nuevo:\n",
        "    print(nombre)"
      ],
      "metadata": {
        "id": "L99SpKDdOR7k",
        "colab": {
          "base_uri": "https://localhost:8080/"
        },
        "outputId": "2cb074a1-57f8-416e-f26f-efcea5030461"
      },
      "execution_count": 33,
      "outputs": [
        {
          "output_type": "stream",
          "name": "stdout",
          "text": [
            "Rubi\n",
            "Irene\n",
            "Pamela\n",
            "Erika\n"
          ]
        }
      ]
    },
    {
      "cell_type": "code",
      "source": [
        "Set_nuevo"
      ],
      "metadata": {
        "colab": {
          "base_uri": "https://localhost:8080/"
        },
        "id": "3zKFD12bPXXD",
        "outputId": "1a7a9e05-687d-4a05-f471-b2e0b3dce636"
      },
      "execution_count": null,
      "outputs": [
        {
          "output_type": "execute_result",
          "data": {
            "text/plain": [
              "{'Erika', 'Grettel', 'Pamela'}"
            ]
          },
          "metadata": {},
          "execution_count": 17
        }
      ]
    },
    {
      "cell_type": "code",
      "source": [
        "Set_nuevo"
      ],
      "metadata": {
        "colab": {
          "base_uri": "https://localhost:8080/"
        },
        "id": "FBeJ_P31PXx0",
        "outputId": "010ca0b1-5d19-427d-91e6-d707539c950a"
      },
      "execution_count": null,
      "outputs": [
        {
          "output_type": "execute_result",
          "data": {
            "text/plain": [
              "{'Dana', 'Erika', 'Grettel', 'Irene', 'Pamela', 'Rubi'}"
            ]
          },
          "metadata": {},
          "execution_count": 19
        }
      ]
    },
    {
      "cell_type": "code",
      "source": [
        "Set_nuevo"
      ],
      "metadata": {
        "colab": {
          "base_uri": "https://localhost:8080/"
        },
        "id": "Vo76PokpPYH7",
        "outputId": "92b0cd86-1aa8-4dad-b2ef-8a912ddee936"
      },
      "execution_count": null,
      "outputs": [
        {
          "output_type": "execute_result",
          "data": {
            "text/plain": [
              "{'Erika', 'Grettel', 'Irene', 'Pamela', 'Rubi'}"
            ]
          },
          "metadata": {},
          "execution_count": 21
        }
      ]
    },
    {
      "cell_type": "code",
      "source": [
        "print(\"La union de los dos sets: \",union)\n",
        "print(\"Datos en comun de los sets: \",interseccion)\n",
        "print(\"Datos diferentes (unicos): \",diferencia)"
      ],
      "metadata": {
        "colab": {
          "base_uri": "https://localhost:8080/"
        },
        "id": "cYQyhYDmPYej",
        "outputId": "7bff3266-d772-4de0-eb2c-10f09fe8ff30"
      },
      "execution_count": null,
      "outputs": [
        {
          "output_type": "stream",
          "name": "stdout",
          "text": [
            "La union de los dos sets:  {'Erika', 'Diego', 'Grettel', 'Irene', 'Alexis', 'Pamela', 'Rubi', 'Brayan', 'Ivan'}\n",
            "Datos en comun de los sets:  {'Rubi', 'Pamela'}\n",
            "Datos diferentes (unicos):  {'Irene', 'Erika', 'Grettel'}\n"
          ]
        }
      ]
    },
    {
      "cell_type": "code",
      "source": [
        "Set_nuevo"
      ],
      "metadata": {
        "colab": {
          "base_uri": "https://localhost:8080/"
        },
        "id": "ADRfsnFePY07",
        "outputId": "724deca0-13a5-4857-c36c-873f032f8b08"
      },
      "execution_count": null,
      "outputs": [
        {
          "output_type": "execute_result",
          "data": {
            "text/plain": [
              "{'Erika', 'Irene', 'Pamela', 'Rubi'}"
            ]
          },
          "metadata": {},
          "execution_count": 27
        }
      ]
    },
    {
      "cell_type": "code",
      "execution_count": 32,
      "metadata": {
        "id": "tN5o4cFKJiFl",
        "colab": {
          "base_uri": "https://localhost:8080/"
        },
        "outputId": "3d76786f-a613-4f40-a022-3836a4f3c806"
      },
      "outputs": [
        {
          "output_type": "stream",
          "name": "stdout",
          "text": [
            "Brayan\n",
            "Alexis\n",
            "Ivan\n",
            "Vanessa\n"
          ]
        }
      ],
      "source": [
        "# LISTAS\n",
        "Lista_nueva = ['Brayan','Alexis','Diego']\n",
        "Lista_nueva.append('Ivan')\n",
        "Lista_nueva.append('Vanessa')\n",
        "Lista_nueva.append('Gabriela')\n",
        "Lista_nueva.remove('Diego')\n",
        "mostrar_ultimo = Lista_nueva[-1]\n",
        "mostrar_primero = Lista_nueva[0]\n",
        "eliminar = Lista_nueva.pop()\n",
        "for nombre in Lista_nueva:\n",
        "    print(nombre)"
      ]
    },
    {
      "cell_type": "code",
      "source": [
        "Lista_nueva"
      ],
      "metadata": {
        "colab": {
          "base_uri": "https://localhost:8080/"
        },
        "id": "8HtJnP0aKeqm",
        "outputId": "13296abc-7f3c-4741-93db-add8a36359b9"
      },
      "execution_count": null,
      "outputs": [
        {
          "output_type": "execute_result",
          "data": {
            "text/plain": [
              "['Brayan', 'Alexis', 'Diego']"
            ]
          },
          "metadata": {},
          "execution_count": 5
        }
      ]
    },
    {
      "cell_type": "code",
      "source": [
        "Lista_nueva"
      ],
      "metadata": {
        "colab": {
          "base_uri": "https://localhost:8080/"
        },
        "id": "6rF1KbygM13T",
        "outputId": "663efb07-0bc9-43da-957a-4685a9761649"
      },
      "execution_count": null,
      "outputs": [
        {
          "output_type": "execute_result",
          "data": {
            "text/plain": [
              "['Brayan', 'Alexis', 'Diego', 'Ivan', 'Vanessa', 'Gabriela']"
            ]
          },
          "metadata": {},
          "execution_count": 7
        }
      ]
    },
    {
      "cell_type": "code",
      "source": [
        "Lista_nueva"
      ],
      "metadata": {
        "colab": {
          "base_uri": "https://localhost:8080/"
        },
        "id": "qU9Z13cdM3Iz",
        "outputId": "7fe01365-828d-4eb3-e989-0ad1082ad6bd"
      },
      "execution_count": null,
      "outputs": [
        {
          "output_type": "execute_result",
          "data": {
            "text/plain": [
              "['Brayan', 'Alexis', 'Ivan', 'Vanessa', 'Gabriela']"
            ]
          },
          "metadata": {},
          "execution_count": 9
        }
      ]
    },
    {
      "cell_type": "code",
      "source": [
        "print(\"Ultimo dato de la lista: \",mostrar_ultimo)\n",
        "print(\"Primer dato de la lista: \",mostrar_primero)"
      ],
      "metadata": {
        "colab": {
          "base_uri": "https://localhost:8080/"
        },
        "id": "nsmB65MdM8vS",
        "outputId": "7932bd6b-8686-4f23-98c4-b79f525ec03c"
      },
      "execution_count": null,
      "outputs": [
        {
          "output_type": "stream",
          "name": "stdout",
          "text": [
            "Ultimo dato de la lista:  Gabriela\n",
            "Primer dato de la lista:  Brayan\n"
          ]
        }
      ]
    },
    {
      "cell_type": "code",
      "source": [
        "print(\"Dato borrado de la lista: \",eliminar)"
      ],
      "metadata": {
        "colab": {
          "base_uri": "https://localhost:8080/"
        },
        "id": "5LHseegxNm20",
        "outputId": "de752b9a-49d4-42e1-bb85-a738b41c1d15"
      },
      "execution_count": null,
      "outputs": [
        {
          "output_type": "stream",
          "name": "stdout",
          "text": [
            "Dato borrado de la lista:  Gabriela\n"
          ]
        }
      ]
    }
  ]
}